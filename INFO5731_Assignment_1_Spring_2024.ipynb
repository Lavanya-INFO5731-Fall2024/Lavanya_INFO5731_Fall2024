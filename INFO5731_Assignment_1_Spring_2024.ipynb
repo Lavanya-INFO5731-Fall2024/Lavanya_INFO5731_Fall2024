{
  "cells": [
    {
      "cell_type": "markdown",
      "metadata": {
        "id": "view-in-github",
        "colab_type": "text"
      },
      "source": [
        "<a href=\"https://colab.research.google.com/github/Lavanya-INFO5731-Fall2024/Lavanya_INFO5731_Fall2024/blob/main/INFO5731_Assignment_1_Spring_2024.ipynb\" target=\"_parent\"><img src=\"https://colab.research.google.com/assets/colab-badge.svg\" alt=\"Open In Colab\"/></a>"
      ]
    },
    {
      "cell_type": "markdown",
      "metadata": {
        "id": "Ryk8D1Q4Wsrp"
      },
      "source": [
        "# **INFO5731 Assignment One**"
      ]
    },
    {
      "cell_type": "markdown",
      "source": [
        "This assignment includes range of programming tasks and data analysis exercises, aiming to enhance your Python skills and proficiency in string manipulation, numerical computations, and data science. Follow the instructions carefully and design well-structured Python programs to address each question.\n",
        "\n",
        "Late Submission will have a penalty of 10% reduction for each day after the deadline."
      ],
      "metadata": {
        "id": "qcP6re2g5A5r"
      }
    },
    {
      "cell_type": "markdown",
      "metadata": {
        "id": "JkzR8cFAyGik"
      },
      "source": [
        "# Question 1 (10 points).\n",
        "\n",
        "The formula that describes the volume V of a hemisphere with radius r is the following:\n",
        "\n",
        "$ V=\\frac{2}{3}\\ast\\ \\pi\\ast\\ r^3 $\n",
        "\n",
        "Write a program to calculate the value of V when r is in the range of even numbers from 1-20. Output the result in the following format:\n",
        "\n",
        "\tr\tV\n",
        "\t2\t…\n",
        "\t4\t…\n",
        "\t6\t…\n",
        "\t.\n",
        "\t.\n",
        "\t.\n",
        "\t20\t…\n"
      ]
    },
    {
      "cell_type": "code",
      "execution_count": 5,
      "metadata": {
        "id": "jDyTKYs-yGit",
        "colab": {
          "base_uri": "https://localhost:8080/"
        },
        "outputId": "107a21ba-09cb-4703-ef37-ce0d6adc7029"
      },
      "outputs": [
        {
          "output_type": "stream",
          "name": "stdout",
          "text": [
            "r     V                   \n",
            "2     16.76               \n",
            "4     134.04              \n",
            "6     452.39              \n",
            "8     1072.33             \n",
            "10    2094.40             \n",
            "12    3619.11             \n",
            "14    5747.02             \n",
            "16    8578.64             \n",
            "18    12214.51            \n",
            "20    16755.16            \n"
          ]
        }
      ],
      "source": [
        "import math\n",
        "print(f\"{'r':<5} {'V':<20}\")\n",
        "for r in range(2, 21, 2):\n",
        "    radius_cubed = r ** 3\n",
        "    V = (2/3) * math.pi * radius_cubed\n",
        "    print(f\"{r:<5} {V:<20.2f}\")"
      ]
    },
    {
      "cell_type": "markdown",
      "metadata": {
        "id": "90_NR8c5XGWc"
      },
      "source": [
        "# Question 2 (20 points)\n",
        "\n",
        "(a) Write a Python program to generate a sequence of 12 random numbers falling within the range of 50 to 150.\n",
        "\n",
        "(b) Arrange the generated numbers in ascending order. Display the sorted list.\n",
        "\n",
        "(c) Extend the program to arrange the numbers in descending order as well. Present the sorted list accordingly.\n",
        "\n",
        "(d) Compute and output the average of the entire group of generated numbers.\n",
        "\n",
        "(e) Enhance the program to calculate and display the average of the first 6 numbers from both the ascending and descending sorted lists."
      ]
    },
    {
      "cell_type": "code",
      "execution_count": 6,
      "metadata": {
        "id": "5QX6bJjGWXY9",
        "colab": {
          "base_uri": "https://localhost:8080/"
        },
        "outputId": "760db4a7-e79e-4896-eb61-198d11bbabec"
      },
      "outputs": [
        {
          "output_type": "stream",
          "name": "stdout",
          "text": [
            "Numbers in ascending order: [57, 71, 77, 82, 83, 83, 92, 103, 124, 134, 143, 145]\n",
            "Numbers in descending order: [145, 143, 134, 124, 103, 92, 83, 83, 82, 77, 71, 57]\n",
            "Average of all the numbers: 99.5\n",
            "Average of first 6 numbers in ascending: 75.5\n",
            "Average of first 6 numbers in descending: 123.5\n"
          ]
        }
      ],
      "source": [
        "import random\n",
        "numbers = [random.randint(50, 150) for _ in range(12)]\n",
        "sorted_ascending = sorted(numbers)\n",
        "sorted_descending = sorted(numbers, reverse=True)\n",
        "average_all = sum(numbers) / 12\n",
        "average_first_6_ascending = sum(sorted_ascending[:6]) / 6\n",
        "average_first_6_descending = sum(sorted_descending[:6]) / 6\n",
        "print(\"Numbers in ascending order:\", sorted_ascending)\n",
        "print(\"Numbers in descending order:\", sorted_descending)\n",
        "print(\"Average of all the numbers:\", round(average_all, 2))\n",
        "print(\"Average of first 6 numbers in ascending:\", round(average_first_6_ascending, 2))\n",
        "print(\"Average of first 6 numbers in descending:\", round(average_first_6_descending, 2))"
      ]
    },
    {
      "cell_type": "markdown",
      "metadata": {
        "id": "1F_PZdH9Sh49"
      },
      "source": [
        "# Question 3 (20 points).\n",
        "\n",
        "Create a Python program that encompasses various string manipulation task:\n",
        "\n",
        "(a) Prompt the user to input two sentences.\n",
        "\n",
        "(b) Transform each sentence into a list, where each element corresponds to a word in the sentence. For example, if the sentences are \"Hello, how are you doing today?\" and \"This is an example sentence for the program!\"\n",
        "\n",
        "The program should output:\n",
        "['Hello', ',', 'how', 'are', 'you', 'doing', 'today', '?', 'This', 'is', 'an', 'example', 'sentence', 'for', 'the', 'program', '!']\n",
        "\n",
        "(c) Compare the two sentences. Print out a list of words that occur in both sentences.\n",
        "\n",
        "(d) Remove any punctuation from the sentence and print the sanitized sentences. It should remove at least the following characters, but it can remove more: period(“.”), comma (“,”), semicolon (“;”), and colon (“:”).\n",
        "\n",
        "(e) Count the number of vowels in each of the sentences. Print out each vowel and the occurrences  in the each of the two sentences separately, such as:\n",
        "\n",
        "Sentence1: a:2, e:2, i:0, etc.\n",
        "Sentence2: a:1, e:2, i:2, etc.\n",
        "\n",
        "Design a well-structured Python program to execute these tasks efficiently."
      ]
    },
    {
      "cell_type": "code",
      "execution_count": 8,
      "metadata": {
        "id": "Y0oOSlsOS0cq",
        "colab": {
          "base_uri": "https://localhost:8080/"
        },
        "outputId": "23e54092-032c-4fa5-dfa7-5d263f2c8943"
      },
      "outputs": [
        {
          "output_type": "stream",
          "name": "stdout",
          "text": [
            "Enter first sentence: How are you?\n",
            "Enter second sentence: How is your life?\n",
            "\n",
            "Common words:  ['How']\n",
            "\n",
            "Sanitized sentences:  How are you\n",
            "How is your life\n",
            "\n",
            "Vowel occurrences in Sentence 1: {'a': 1, 'e': 1, 'i': 0, 'o': 2, 'u': 1}\n",
            "Vowel occurrences in Sentence 2: {'a': 0, 'e': 1, 'i': 2, 'o': 2, 'u': 1}\n"
          ]
        }
      ],
      "source": [
        "def string_manipulation():\n",
        "    sentence1 = input(\"Enter first sentence: \")\n",
        "    sentence2 = input(\"Enter second sentence: \")\n",
        "    sentence1_list = sentence1.split()\n",
        "    sentence2_list = sentence2.split()\n",
        "    common_words = list(set(sentence1_list) & set(sentence2_list))\n",
        "    print(\"\\nCommon words: \", common_words)\n",
        "    import string\n",
        "    sentence1_sanitized = sentence1.translate(str.maketrans('', '', string.punctuation))\n",
        "    sentence2_sanitized = sentence2.translate(str.maketrans('', '', string.punctuation))\n",
        "    print(\"\\nSanitized sentences: \", sentence1_sanitized)\n",
        "    print(sentence2_sanitized)\n",
        "    vowels = 'aeiou'\n",
        "\n",
        "    sentence1_vowels = {v: 0 for v in vowels}\n",
        "    sentence2_vowels = {v: 0 for v in vowels}\n",
        "\n",
        "    for char in sentence1_sanitized.lower():\n",
        "        if char in vowels:\n",
        "            sentence1_vowels[char] += 1\n",
        "\n",
        "    for char in sentence2_sanitized.lower():\n",
        "        if char in vowels:\n",
        "            sentence2_vowels[char] += 1\n",
        "\n",
        "    print(\"\\nVowel occurrences in Sentence 1:\", sentence1_vowels)\n",
        "    print(\"Vowel occurrences in Sentence 2:\", sentence2_vowels)\n",
        "string_manipulation()"
      ]
    },
    {
      "cell_type": "markdown",
      "source": [
        "# Question 4 (20 Points)"
      ],
      "metadata": {
        "id": "OP4-5qxAtInv"
      }
    },
    {
      "cell_type": "markdown",
      "source": [
        "Design and implement a simple command-line calculator program. The program should handle both integers and floating-point numbers.\n",
        "\n",
        "(a) Write program that takes a mathematical expression as input and evaluates it. The program should support addition, subtraction, multiplication, and division.\n",
        "\n",
        "(b) Extend the calculator to handle parentheses in mathematical expressions. Implement the necessary logic to evaluate expressions with nested parentheses.\n",
        "\n",
        "(c) Enhance your calculator to include additional mathematical operations such as exponentiation, square root, and modulus.\n",
        "\n",
        "(d) Implement error handling in the calculator program. Handle cases such as division by zero and invalid input expressions. Provide meaningful error messages.\n",
        "\n",
        "(e) Implement a command to exit the calculator."
      ],
      "metadata": {
        "id": "uzN4_hDptK9U"
      }
    },
    {
      "cell_type": "code",
      "source": [
        "import math\n",
        "def evaluate_expression(expression):\n",
        "    try:\n",
        "        result = eval(expression, {\"__builtins__\": None}, {\"sqrt\": math.sqrt, \"pow\": math.pow})\n",
        "        return result\n",
        "    except ZeroDivisionError:\n",
        "        return \"You can't divide by zero.\"\n",
        "    except Exception:\n",
        "        return \"Enter a valid input!\"\n",
        "def calculator():\n",
        "    print(\"Welcome to simple calculator!\")\n",
        "    print(\"You can use +, -, *, %, /, **, sqrt(), and parentheses.\")\n",
        "    print(\"Type 'ok' to exit the calculator.\\n\")\n",
        "\n",
        "    while True:\n",
        "        expression = input(\"Enter a math expression: \")\n",
        "        if expression.lower() == 'ok':\n",
        "            print(\"Thank you for using Simple calculator. See you!\")\n",
        "            break\n",
        "        result = evaluate_expression(expression)\n",
        "        print(f\"Result: {result}\\n\")\n",
        "calculator()"
      ],
      "metadata": {
        "id": "8nQnVxjJuYtu",
        "colab": {
          "base_uri": "https://localhost:8080/"
        },
        "outputId": "a049fd0a-457e-4d82-8baf-8c06695985cb"
      },
      "execution_count": 9,
      "outputs": [
        {
          "output_type": "stream",
          "name": "stdout",
          "text": [
            "Welcome to simple calculator!\n",
            "You can use +, -, *, %, /, **, sqrt(), and parentheses.\n",
            "Type 'ok' to exit the calculator.\n",
            "\n",
            "Enter a math expression: 3+7*4\n",
            "Result: 31\n",
            "\n",
            "Enter a math expression: 9%0\n",
            "Result: You can't divide by zero.\n",
            "\n",
            "Enter a math expression: ok\n",
            "Thank you for using Simple calculator. See you!\n"
          ]
        }
      ]
    },
    {
      "cell_type": "markdown",
      "metadata": {
        "id": "z3tBE7E-Xn5X"
      },
      "source": [
        "# Question 5 (30 points).\n",
        "\n",
        "In the field of Data Science, data is often formatted as a comma-delimited (CSV) file, where each line in a file corresponds to a field's value. Refer to Chapter 9 (p. 106) for more information on comma-delimited files.\n",
        "\n",
        "To answer this question, you will need to download the file [Assignment1_denton_housing.csv](https://raw.githubusercontent.com/unt-iialab/info5731-spring2022/main/assignments/Assignment1_denton_housing.csv) included with this assignment. The file contains statistics about housing in the city of Denton from 2008 to 2014. Write a program to implement the following questions.\n",
        "\n",
        "(a) (5 pts) Calculate the difference in the number of Occupied Housing Units from year to year and print it. The difference must be calculated for the consecutive years such as 2008-2009, 2009-2010 etc. Finally, print the values in the ascending order.\n",
        "\n",
        "(b) (5 pts) For all the years, calculate the percentage of housing units which are vacant an occupied. Print the results in the following format:\n",
        "\n",
        "Year Vacant Housing Units Occupied Housing Units\n",
        "\n",
        "    2008  30%   70%                          \n",
        "\t2009 ----- -----\n",
        "\t2010 ----- -----\n",
        "    2011 ----- -----\n",
        "\t2012 ----- -----\n",
        "    2013 ----- -----\n",
        "\t2014 ----- -----\n",
        "  \n",
        "  \n",
        "\n",
        "(c) (10 pts) Calculate and print the valued and years in which the highest number of housing units were vacant and occupied. Print the results in the following format:  \n",
        "\n",
        "                              Year\tValue\n",
        "\tVacant Housing Units\t  -----   -----\n",
        "\tOccupied Housing Units\t-----   -----\n",
        "\n",
        "(d) (10 pts) Calculate the harmonic mean of the total housing units and print it out. You can find the information about harmonic mean here: https://ncalculators.com/statistics/harmonic-mean-calculator.htm"
      ]
    },
    {
      "cell_type": "code",
      "execution_count": 12,
      "metadata": {
        "id": "lqGYuHBhcsRH",
        "colab": {
          "base_uri": "https://localhost:8080/",
          "height": 507
        },
        "outputId": "d822cc94-30eb-4b26-b368-94c3933ab9fe"
      },
      "outputs": [
        {
          "output_type": "display_data",
          "data": {
            "text/plain": [
              "<IPython.core.display.HTML object>"
            ],
            "text/html": [
              "\n",
              "     <input type=\"file\" id=\"files-8b542f07-1522-496c-a2de-ea91bd15f14b\" name=\"files[]\" multiple disabled\n",
              "        style=\"border:none\" />\n",
              "     <output id=\"result-8b542f07-1522-496c-a2de-ea91bd15f14b\">\n",
              "      Upload widget is only available when the cell has been executed in the\n",
              "      current browser session. Please rerun this cell to enable.\n",
              "      </output>\n",
              "      <script>// Copyright 2017 Google LLC\n",
              "//\n",
              "// Licensed under the Apache License, Version 2.0 (the \"License\");\n",
              "// you may not use this file except in compliance with the License.\n",
              "// You may obtain a copy of the License at\n",
              "//\n",
              "//      http://www.apache.org/licenses/LICENSE-2.0\n",
              "//\n",
              "// Unless required by applicable law or agreed to in writing, software\n",
              "// distributed under the License is distributed on an \"AS IS\" BASIS,\n",
              "// WITHOUT WARRANTIES OR CONDITIONS OF ANY KIND, either express or implied.\n",
              "// See the License for the specific language governing permissions and\n",
              "// limitations under the License.\n",
              "\n",
              "/**\n",
              " * @fileoverview Helpers for google.colab Python module.\n",
              " */\n",
              "(function(scope) {\n",
              "function span(text, styleAttributes = {}) {\n",
              "  const element = document.createElement('span');\n",
              "  element.textContent = text;\n",
              "  for (const key of Object.keys(styleAttributes)) {\n",
              "    element.style[key] = styleAttributes[key];\n",
              "  }\n",
              "  return element;\n",
              "}\n",
              "\n",
              "// Max number of bytes which will be uploaded at a time.\n",
              "const MAX_PAYLOAD_SIZE = 100 * 1024;\n",
              "\n",
              "function _uploadFiles(inputId, outputId) {\n",
              "  const steps = uploadFilesStep(inputId, outputId);\n",
              "  const outputElement = document.getElementById(outputId);\n",
              "  // Cache steps on the outputElement to make it available for the next call\n",
              "  // to uploadFilesContinue from Python.\n",
              "  outputElement.steps = steps;\n",
              "\n",
              "  return _uploadFilesContinue(outputId);\n",
              "}\n",
              "\n",
              "// This is roughly an async generator (not supported in the browser yet),\n",
              "// where there are multiple asynchronous steps and the Python side is going\n",
              "// to poll for completion of each step.\n",
              "// This uses a Promise to block the python side on completion of each step,\n",
              "// then passes the result of the previous step as the input to the next step.\n",
              "function _uploadFilesContinue(outputId) {\n",
              "  const outputElement = document.getElementById(outputId);\n",
              "  const steps = outputElement.steps;\n",
              "\n",
              "  const next = steps.next(outputElement.lastPromiseValue);\n",
              "  return Promise.resolve(next.value.promise).then((value) => {\n",
              "    // Cache the last promise value to make it available to the next\n",
              "    // step of the generator.\n",
              "    outputElement.lastPromiseValue = value;\n",
              "    return next.value.response;\n",
              "  });\n",
              "}\n",
              "\n",
              "/**\n",
              " * Generator function which is called between each async step of the upload\n",
              " * process.\n",
              " * @param {string} inputId Element ID of the input file picker element.\n",
              " * @param {string} outputId Element ID of the output display.\n",
              " * @return {!Iterable<!Object>} Iterable of next steps.\n",
              " */\n",
              "function* uploadFilesStep(inputId, outputId) {\n",
              "  const inputElement = document.getElementById(inputId);\n",
              "  inputElement.disabled = false;\n",
              "\n",
              "  const outputElement = document.getElementById(outputId);\n",
              "  outputElement.innerHTML = '';\n",
              "\n",
              "  const pickedPromise = new Promise((resolve) => {\n",
              "    inputElement.addEventListener('change', (e) => {\n",
              "      resolve(e.target.files);\n",
              "    });\n",
              "  });\n",
              "\n",
              "  const cancel = document.createElement('button');\n",
              "  inputElement.parentElement.appendChild(cancel);\n",
              "  cancel.textContent = 'Cancel upload';\n",
              "  const cancelPromise = new Promise((resolve) => {\n",
              "    cancel.onclick = () => {\n",
              "      resolve(null);\n",
              "    };\n",
              "  });\n",
              "\n",
              "  // Wait for the user to pick the files.\n",
              "  const files = yield {\n",
              "    promise: Promise.race([pickedPromise, cancelPromise]),\n",
              "    response: {\n",
              "      action: 'starting',\n",
              "    }\n",
              "  };\n",
              "\n",
              "  cancel.remove();\n",
              "\n",
              "  // Disable the input element since further picks are not allowed.\n",
              "  inputElement.disabled = true;\n",
              "\n",
              "  if (!files) {\n",
              "    return {\n",
              "      response: {\n",
              "        action: 'complete',\n",
              "      }\n",
              "    };\n",
              "  }\n",
              "\n",
              "  for (const file of files) {\n",
              "    const li = document.createElement('li');\n",
              "    li.append(span(file.name, {fontWeight: 'bold'}));\n",
              "    li.append(span(\n",
              "        `(${file.type || 'n/a'}) - ${file.size} bytes, ` +\n",
              "        `last modified: ${\n",
              "            file.lastModifiedDate ? file.lastModifiedDate.toLocaleDateString() :\n",
              "                                    'n/a'} - `));\n",
              "    const percent = span('0% done');\n",
              "    li.appendChild(percent);\n",
              "\n",
              "    outputElement.appendChild(li);\n",
              "\n",
              "    const fileDataPromise = new Promise((resolve) => {\n",
              "      const reader = new FileReader();\n",
              "      reader.onload = (e) => {\n",
              "        resolve(e.target.result);\n",
              "      };\n",
              "      reader.readAsArrayBuffer(file);\n",
              "    });\n",
              "    // Wait for the data to be ready.\n",
              "    let fileData = yield {\n",
              "      promise: fileDataPromise,\n",
              "      response: {\n",
              "        action: 'continue',\n",
              "      }\n",
              "    };\n",
              "\n",
              "    // Use a chunked sending to avoid message size limits. See b/62115660.\n",
              "    let position = 0;\n",
              "    do {\n",
              "      const length = Math.min(fileData.byteLength - position, MAX_PAYLOAD_SIZE);\n",
              "      const chunk = new Uint8Array(fileData, position, length);\n",
              "      position += length;\n",
              "\n",
              "      const base64 = btoa(String.fromCharCode.apply(null, chunk));\n",
              "      yield {\n",
              "        response: {\n",
              "          action: 'append',\n",
              "          file: file.name,\n",
              "          data: base64,\n",
              "        },\n",
              "      };\n",
              "\n",
              "      let percentDone = fileData.byteLength === 0 ?\n",
              "          100 :\n",
              "          Math.round((position / fileData.byteLength) * 100);\n",
              "      percent.textContent = `${percentDone}% done`;\n",
              "\n",
              "    } while (position < fileData.byteLength);\n",
              "  }\n",
              "\n",
              "  // All done.\n",
              "  yield {\n",
              "    response: {\n",
              "      action: 'complete',\n",
              "    }\n",
              "  };\n",
              "}\n",
              "\n",
              "scope.google = scope.google || {};\n",
              "scope.google.colab = scope.google.colab || {};\n",
              "scope.google.colab._files = {\n",
              "  _uploadFiles,\n",
              "  _uploadFilesContinue,\n",
              "};\n",
              "})(self);\n",
              "</script> "
            ]
          },
          "metadata": {}
        },
        {
          "output_type": "stream",
          "name": "stdout",
          "text": [
            "Saving Assignment1_denton_housing (1).csv to Assignment1_denton_housing (1) (3).csv\n",
            "(a) Difference in Occupied Housing Units from year to year:\n",
            "year\n",
            "2009    -795.0\n",
            "2011    -303.0\n",
            "2012    1404.0\n",
            "2013    1565.0\n",
            "2014    2622.0\n",
            "2010    5091.0\n",
            "Name: Occupied Housing Units, dtype: float64\n",
            "\n",
            "(b) Percentage of Vacant and Occupied Housing Units:\n",
            "Year   Vacant Housing Units   Occupied Housing Units\n",
            "2008   10.88%   89.12%\n",
            "2009   9.07%   90.93%\n",
            "2010   8.14%   91.86%\n",
            "2011   9.38%   90.62%\n",
            "2012   6.68%   93.32%\n",
            "2013   8.8%   91.2%\n",
            "2014   5.73%   94.27%\n",
            "\n",
            "(c) Highest number of Vacant and Occupied Housing Units:\n",
            "Vacant Housing Units      2008   4483\n",
            "Occupied Housing Units    2014   46295\n",
            "\n",
            "(d) Harmonic Mean of Total Housing Units: 44398.29\n"
          ]
        }
      ],
      "source": [
        "import pandas as pd\n",
        "from scipy.stats import hmean\n",
        "from google.colab import files\n",
        "uploaded = files.upload()\n",
        "df = pd.read_csv(r'denton_housing.csv')\n",
        "pivot_df = df.pivot(index='year', columns='title_field', values='value')\n",
        "occupied_diff = pivot_df['Occupied Housing Units'].diff().dropna()\n",
        "print(\"(a) Difference in Occupied Housing Units from year to year:\")\n",
        "print(occupied_diff.sort_values())\n",
        "print()\n",
        "\n",
        "total_units = pivot_df['Total Housing Units']\n",
        "vacant_percentage = (pivot_df['Vacant Housing Units'] / total_units * 100).round(2)\n",
        "occupied_percentage = (pivot_df['Occupied Housing Units'] / total_units * 100).round(2)\n",
        "print(\"(b) Percentage of Vacant and Occupied Housing Units:\")\n",
        "print(\"Year   Vacant Housing Units   Occupied Housing Units\")\n",
        "for year in total_units.index:\n",
        "    print(f\"{year}   {vacant_percentage[year]}%   {occupied_percentage[year]}%\")\n",
        "print()\n",
        "\n",
        "max_vacant_year = pivot_df['Vacant Housing Units'].idxmax()\n",
        "max_occupied_year = pivot_df['Occupied Housing Units'].idxmax()\n",
        "max_vacant_value = pivot_df['Vacant Housing Units'].max()\n",
        "max_occupied_value = pivot_df['Occupied Housing Units'].max()\n",
        "print(\"(c) Highest number of Vacant and Occupied Housing Units:\")\n",
        "print(f\"Vacant Housing Units      {max_vacant_year}   {max_vacant_value}\")\n",
        "print(f\"Occupied Housing Units    {max_occupied_year}   {max_occupied_value}\")\n",
        "print()\n",
        "\n",
        "harmonic_mean_total_units = hmean(total_units)\n",
        "print(f\"(d) Harmonic Mean of Total Housing Units: {harmonic_mean_total_units:.2f}\")"
      ]
    },
    {
      "cell_type": "markdown",
      "source": [
        "# Mandatory Question\n",
        "\n",
        "Provide your thoughts on the assignment. What did you find challenging, and what aspects did you enjoy? Your opinion on the provided time to complete the assignment. Share any suggestions for improvement. Your feedback will be valuable for enhancing the learning experience."
      ],
      "metadata": {
        "id": "q8BFCvWp32cf"
      }
    },
    {
      "cell_type": "code",
      "source": [
        "'''\n",
        "I have faced few challenges in some concepts such as creating meaningful data visualizations.\n",
        "It took more research and troubleshooting to customize visualizations to meet the requirements.\n",
        "This assignment gave us a chance to put our academic knowledge into practice.\n",
        "It was satisfying to work with actual datasets and create visualizations, especially when the finished products were realized.\n",
        "We also have enough time to do the assignment and correct our errors.\n",
        "'''\n"
      ],
      "metadata": {
        "id": "_e557s2w4BpK"
      },
      "execution_count": null,
      "outputs": []
    }
  ],
  "metadata": {
    "colab": {
      "provenance": [],
      "include_colab_link": true
    },
    "kernelspec": {
      "display_name": "Python 3 (ipykernel)",
      "language": "python",
      "name": "python3"
    },
    "language_info": {
      "codemirror_mode": {
        "name": "ipython",
        "version": 3
      },
      "file_extension": ".py",
      "mimetype": "text/x-python",
      "name": "python",
      "nbconvert_exporter": "python",
      "pygments_lexer": "ipython3",
      "version": "3.9.12"
    }
  },
  "nbformat": 4,
  "nbformat_minor": 0
}